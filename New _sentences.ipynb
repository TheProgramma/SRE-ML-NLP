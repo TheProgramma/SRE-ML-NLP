{
 "cells": [
  {
   "cell_type": "markdown",
   "id": "e7dd740d-0685-4c46-81d2-8bd61f99a0ba",
   "metadata": {},
   "source": [
    "I enjoyed a successful evening cupcake with my grandchildren"
   ]
  },
  {
   "cell_type": "markdown",
   "id": "1cb395cb-8164-44fa-a61c-2de683e90da4",
   "metadata": {},
   "source": [
    "I happy bread, surprising myself with a spectacular recipe"
   ]
  }
 ],
 "metadata": {
  "kernelspec": {
   "display_name": "Python 3 (ipykernel)",
   "language": "python",
   "name": "python3"
  },
  "language_info": {
   "codemirror_mode": {
    "name": "ipython",
    "version": 3
   },
   "file_extension": ".py",
   "mimetype": "text/x-python",
   "name": "python",
   "nbconvert_exporter": "python",
   "pygments_lexer": "ipython3",
   "version": "3.11.6"
  }
 },
 "nbformat": 4,
 "nbformat_minor": 5
}
